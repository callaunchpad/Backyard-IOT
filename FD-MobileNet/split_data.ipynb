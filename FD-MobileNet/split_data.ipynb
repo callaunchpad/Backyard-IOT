{
 "cells": [
  {
   "cell_type": "code",
   "execution_count": 75,
   "metadata": {},
   "outputs": [],
   "source": [
    "from sklearn.model_selection import train_test_split\n",
    "from sklearn.utils.class_weight import compute_class_weight\n",
    "import pandas as pd\n",
    "from collections import Counter"
   ]
  },
  {
   "cell_type": "code",
   "execution_count": 76,
   "metadata": {},
   "outputs": [],
   "source": [
    "df = pd.read_csv('../Data/iwildcam/labels.csv')"
   ]
  },
  {
   "cell_type": "code",
   "execution_count": 121,
   "metadata": {
    "scrolled": true
   },
   "outputs": [],
   "source": [
    "counts = df.groupby('label').size()"
   ]
  },
  {
   "cell_type": "code",
   "execution_count": 122,
   "metadata": {},
   "outputs": [
    {
     "data": {
      "text/plain": [
       "label\n",
       "bobcat             5975\n",
       "cat                4759\n",
       "coyote             7209\n",
       "deer               6102\n",
       "dog                3035\n",
       "empty            131457\n",
       "fox                1093\n",
       "mountain_lion        33\n",
       "opossum           14106\n",
       "rabbit             6938\n",
       "raccoon            8623\n",
       "rodent             2210\n",
       "skunk              1361\n",
       "squirrel           3398\n",
       "dtype: int64"
      ]
     },
     "execution_count": 122,
     "metadata": {},
     "output_type": "execute_result"
    }
   ],
   "source": [
    "counts"
   ]
  },
  {
   "cell_type": "code",
   "execution_count": 131,
   "metadata": {},
   "outputs": [],
   "source": [
    "train = pd.DataFrame(columns=df.columns)\n",
    "for label, weight in class_weights.items():\n",
    "    label_df = df[df['label'] == label]\n",
    "    amount = min(4000, len(label_df))\n",
    "    train = train.append(label_df.sample(amount), ignore_index=True)"
   ]
  },
  {
   "cell_type": "code",
   "execution_count": 132,
   "metadata": {},
   "outputs": [
    {
     "data": {
      "text/plain": [
       "label\n",
       "bobcat           4000\n",
       "cat              4000\n",
       "coyote           4000\n",
       "deer             4000\n",
       "dog              3035\n",
       "empty            4000\n",
       "fox              1093\n",
       "mountain_lion      33\n",
       "opossum          4000\n",
       "rabbit           4000\n",
       "raccoon          4000\n",
       "rodent           2210\n",
       "skunk            1361\n",
       "squirrel         3398\n",
       "dtype: int64"
      ]
     },
     "execution_count": 132,
     "metadata": {},
     "output_type": "execute_result"
    }
   ],
   "source": [
    "train.groupby('label').size()"
   ]
  },
  {
   "cell_type": "code",
   "execution_count": 133,
   "metadata": {
    "scrolled": false
   },
   "outputs": [
    {
     "data": {
      "text/plain": [
       "43130"
      ]
     },
     "execution_count": 133,
     "metadata": {},
     "output_type": "execute_result"
    }
   ],
   "source": [
    "len(train)"
   ]
  },
  {
   "cell_type": "code",
   "execution_count": 134,
   "metadata": {},
   "outputs": [
    {
     "name": "stdout",
     "output_type": "stream",
     "text": [
      "\u001b[34m__pycache__\u001b[m\u001b[m                            keras_fdmobilenet.py\r\n",
      "dataframe.ipynb                        \u001b[34msessions\u001b[m\u001b[m\r\n",
      "df_pipeline.ipynb                      split_data.ipynb\r\n",
      "keras_fdmobilenet-no-regularization.py train.py\r\n"
     ]
    }
   ],
   "source": [
    "!ls"
   ]
  },
  {
   "cell_type": "code",
   "execution_count": 135,
   "metadata": {},
   "outputs": [],
   "source": [
    "train.to_csv('train.csv', index=False)"
   ]
  },
  {
   "cell_type": "code",
   "execution_count": null,
   "metadata": {},
   "outputs": [],
   "source": []
  }
 ],
 "metadata": {
  "kernelspec": {
   "display_name": "base",
   "language": "python",
   "name": "base"
  },
  "language_info": {
   "codemirror_mode": {
    "name": "ipython",
    "version": 3
   },
   "file_extension": ".py",
   "mimetype": "text/x-python",
   "name": "python",
   "nbconvert_exporter": "python",
   "pygments_lexer": "ipython3",
   "version": "3.7.4"
  }
 },
 "nbformat": 4,
 "nbformat_minor": 2
}
