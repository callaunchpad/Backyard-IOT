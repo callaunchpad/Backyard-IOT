{
 "cells": [
  {
   "cell_type": "code",
   "execution_count": 1,
   "metadata": {},
   "outputs": [],
   "source": [
    "import pandas as pd\n",
    "from tensorflow.keras.preprocessing.image import ImageDataGenerator"
   ]
  },
  {
   "cell_type": "code",
   "execution_count": 4,
   "metadata": {},
   "outputs": [],
   "source": [
    "OLD_PATH = '../Data/train.csv'\n",
    "NEW_PATH = '../Data/labels.csv'"
   ]
  },
  {
   "cell_type": "code",
   "execution_count": 5,
   "metadata": {},
   "outputs": [],
   "source": [
    "df = pd.read_csv(OLD_PATH)"
   ]
  },
  {
   "cell_type": "code",
   "execution_count": 6,
   "metadata": {},
   "outputs": [
    {
     "data": {
      "text/plain": [
       "array([19,  0,  3,  8,  4, 13,  1, 11, 16, 17, 14, 18, 10, 22])"
      ]
     },
     "execution_count": 6,
     "metadata": {},
     "output_type": "execute_result"
    }
   ],
   "source": [
    "ids = df.category_id.unique()\n",
    "ids"
   ]
  },
  {
   "cell_type": "code",
   "execution_count": 7,
   "metadata": {},
   "outputs": [],
   "source": [
    "animal_to_idx = {'empty': 0, 'deer': 1, 'squirrel': 3, 'rodent': 4, 'rabbit': 8, 'fox': 10, 'coyote': 11, \n",
    " 'raccoon': 13, 'skunk': 14, 'bobcat': 16, 'cat': 17, 'dog': 18, 'opossum': 19, 'mountain_lion': 22}\n",
    "idx_to_animal = {v: k for k, v in animal_to_idx.items()}"
   ]
  },
  {
   "cell_type": "code",
   "execution_count": 30,
   "metadata": {},
   "outputs": [
    {
     "data": {
      "text/plain": [
       "{0: 'empty',\n",
       " 1: 'deer',\n",
       " 3: 'squirrel',\n",
       " 4: 'rodent',\n",
       " 8: 'rabbit',\n",
       " 10: 'fox',\n",
       " 11: 'coyote',\n",
       " 13: 'raccoon',\n",
       " 14: 'skunk',\n",
       " 16: 'bobcat',\n",
       " 17: 'cat',\n",
       " 18: 'dog',\n",
       " 19: 'opossum',\n",
       " 22: 'mountain_lion'}"
      ]
     },
     "execution_count": 30,
     "metadata": {},
     "output_type": "execute_result"
    }
   ],
   "source": [
    "idx_to_animal"
   ]
  },
  {
   "cell_type": "code",
   "execution_count": 8,
   "metadata": {},
   "outputs": [],
   "source": [
    "order = list(animal_to_idx.keys())"
   ]
  },
  {
   "cell_type": "code",
   "execution_count": 9,
   "metadata": {},
   "outputs": [
    {
     "name": "stdout",
     "output_type": "stream",
     "text": [
      "['empty', 'deer', 'squirrel', 'rodent', 'rabbit', 'fox', 'coyote', 'raccoon', 'skunk', 'bobcat', 'cat', 'dog', 'opossum', 'mountain_lion']\n"
     ]
    },
    {
     "data": {
      "text/plain": [
       "1"
      ]
     },
     "execution_count": 9,
     "metadata": {},
     "output_type": "execute_result"
    }
   ],
   "source": [
    "print(order)\n",
    "order.index('deer')"
   ]
  },
  {
   "cell_type": "code",
   "execution_count": 10,
   "metadata": {},
   "outputs": [
    {
     "data": {
      "text/plain": [
       "{0: 0,\n",
       " 1: 1,\n",
       " 3: 2,\n",
       " 4: 3,\n",
       " 8: 4,\n",
       " 10: 5,\n",
       " 11: 6,\n",
       " 13: 7,\n",
       " 14: 8,\n",
       " 16: 9,\n",
       " 17: 10,\n",
       " 18: 11,\n",
       " 19: 12,\n",
       " 22: 13}"
      ]
     },
     "execution_count": 10,
     "metadata": {},
     "output_type": "execute_result"
    }
   ],
   "source": [
    "old_to_new = {old: order.index(animal) for old, animal in idx_to_animal.items()}\n",
    "old_to_new"
   ]
  },
  {
   "cell_type": "code",
   "execution_count": 11,
   "metadata": {},
   "outputs": [
    {
     "data": {
      "text/plain": [
       "category_id                                             19\n",
       "date_captured                          2011-05-13 23:43:18\n",
       "file_name         5998cfa4-23d2-11e8-a6a3-ec086b02610b.jpg\n",
       "frame_num                                                1\n",
       "id                    5998cfa4-23d2-11e8-a6a3-ec086b02610b\n",
       "location                                                33\n",
       "rights_holder                                 Justin Brown\n",
       "seq_id                6f084ccc-5567-11e8-bc84-dca9047ef277\n",
       "seq_num_frames                                           3\n",
       "width                                                 1024\n",
       "height                                                 747\n",
       "Name: 0, dtype: object"
      ]
     },
     "execution_count": 11,
     "metadata": {},
     "output_type": "execute_result"
    }
   ],
   "source": [
    "df.iloc[0]"
   ]
  },
  {
   "cell_type": "code",
   "execution_count": 28,
   "metadata": {},
   "outputs": [],
   "source": [
    "df['label'] = df.apply(lambda row: idx_to_animal[row.category_id], axis=1)"
   ]
  },
  {
   "cell_type": "code",
   "execution_count": 29,
   "metadata": {},
   "outputs": [
    {
     "data": {
      "text/html": [
       "<div>\n",
       "<style scoped>\n",
       "    .dataframe tbody tr th:only-of-type {\n",
       "        vertical-align: middle;\n",
       "    }\n",
       "\n",
       "    .dataframe tbody tr th {\n",
       "        vertical-align: top;\n",
       "    }\n",
       "\n",
       "    .dataframe thead th {\n",
       "        text-align: right;\n",
       "    }\n",
       "</style>\n",
       "<table border=\"1\" class=\"dataframe\">\n",
       "  <thead>\n",
       "    <tr style=\"text-align: right;\">\n",
       "      <th></th>\n",
       "      <th>category_id</th>\n",
       "      <th>date_captured</th>\n",
       "      <th>file_name</th>\n",
       "      <th>frame_num</th>\n",
       "      <th>id</th>\n",
       "      <th>location</th>\n",
       "      <th>rights_holder</th>\n",
       "      <th>seq_id</th>\n",
       "      <th>seq_num_frames</th>\n",
       "      <th>width</th>\n",
       "      <th>height</th>\n",
       "      <th>label</th>\n",
       "    </tr>\n",
       "  </thead>\n",
       "  <tbody>\n",
       "    <tr>\n",
       "      <td>0</td>\n",
       "      <td>19</td>\n",
       "      <td>2011-05-13 23:43:18</td>\n",
       "      <td>5998cfa4-23d2-11e8-a6a3-ec086b02610b.jpg</td>\n",
       "      <td>1</td>\n",
       "      <td>5998cfa4-23d2-11e8-a6a3-ec086b02610b</td>\n",
       "      <td>33</td>\n",
       "      <td>Justin Brown</td>\n",
       "      <td>6f084ccc-5567-11e8-bc84-dca9047ef277</td>\n",
       "      <td>3</td>\n",
       "      <td>1024</td>\n",
       "      <td>747</td>\n",
       "      <td>opossum</td>\n",
       "    </tr>\n",
       "    <tr>\n",
       "      <td>1</td>\n",
       "      <td>19</td>\n",
       "      <td>2012-03-17 03:48:44</td>\n",
       "      <td>588a679f-23d2-11e8-a6a3-ec086b02610b.jpg</td>\n",
       "      <td>2</td>\n",
       "      <td>588a679f-23d2-11e8-a6a3-ec086b02610b</td>\n",
       "      <td>115</td>\n",
       "      <td>Justin Brown</td>\n",
       "      <td>6f12067d-5567-11e8-b3c0-dca9047ef277</td>\n",
       "      <td>3</td>\n",
       "      <td>1024</td>\n",
       "      <td>747</td>\n",
       "      <td>opossum</td>\n",
       "    </tr>\n",
       "    <tr>\n",
       "      <td>2</td>\n",
       "      <td>0</td>\n",
       "      <td>2014-05-11 11:56:46</td>\n",
       "      <td>59279ce3-23d2-11e8-a6a3-ec086b02610b.jpg</td>\n",
       "      <td>1</td>\n",
       "      <td>59279ce3-23d2-11e8-a6a3-ec086b02610b</td>\n",
       "      <td>96</td>\n",
       "      <td>Erin Boydston</td>\n",
       "      <td>6faa92d1-5567-11e8-b1ae-dca9047ef277</td>\n",
       "      <td>1</td>\n",
       "      <td>1024</td>\n",
       "      <td>747</td>\n",
       "      <td>empty</td>\n",
       "    </tr>\n",
       "    <tr>\n",
       "      <td>3</td>\n",
       "      <td>0</td>\n",
       "      <td>2013-10-06 02:00:00</td>\n",
       "      <td>5a2af4ab-23d2-11e8-a6a3-ec086b02610b.jpg</td>\n",
       "      <td>1</td>\n",
       "      <td>5a2af4ab-23d2-11e8-a6a3-ec086b02610b</td>\n",
       "      <td>57</td>\n",
       "      <td>Erin Boydston</td>\n",
       "      <td>6f7d4702-5567-11e8-9e03-dca9047ef277</td>\n",
       "      <td>1</td>\n",
       "      <td>1024</td>\n",
       "      <td>747</td>\n",
       "      <td>empty</td>\n",
       "    </tr>\n",
       "    <tr>\n",
       "      <td>4</td>\n",
       "      <td>0</td>\n",
       "      <td>2011-07-12 13:11:16</td>\n",
       "      <td>599fbd89-23d2-11e8-a6a3-ec086b02610b.jpg</td>\n",
       "      <td>3</td>\n",
       "      <td>599fbd89-23d2-11e8-a6a3-ec086b02610b</td>\n",
       "      <td>46</td>\n",
       "      <td>Justin Brown</td>\n",
       "      <td>6f1728a1-5567-11e8-9be7-dca9047ef277</td>\n",
       "      <td>3</td>\n",
       "      <td>1024</td>\n",
       "      <td>747</td>\n",
       "      <td>empty</td>\n",
       "    </tr>\n",
       "    <tr>\n",
       "      <td>...</td>\n",
       "      <td>...</td>\n",
       "      <td>...</td>\n",
       "      <td>...</td>\n",
       "      <td>...</td>\n",
       "      <td>...</td>\n",
       "      <td>...</td>\n",
       "      <td>...</td>\n",
       "      <td>...</td>\n",
       "      <td>...</td>\n",
       "      <td>...</td>\n",
       "      <td>...</td>\n",
       "      <td>...</td>\n",
       "    </tr>\n",
       "    <tr>\n",
       "      <td>196294</td>\n",
       "      <td>0</td>\n",
       "      <td>2013-10-04 12:33:13</td>\n",
       "      <td>597b495c-23d2-11e8-a6a3-ec086b02610b.jpg</td>\n",
       "      <td>1</td>\n",
       "      <td>597b495c-23d2-11e8-a6a3-ec086b02610b</td>\n",
       "      <td>26</td>\n",
       "      <td>Erin Boydston</td>\n",
       "      <td>6f20b923-5567-11e8-b4d7-dca9047ef277</td>\n",
       "      <td>1</td>\n",
       "      <td>1024</td>\n",
       "      <td>747</td>\n",
       "      <td>empty</td>\n",
       "    </tr>\n",
       "    <tr>\n",
       "      <td>196295</td>\n",
       "      <td>0</td>\n",
       "      <td>2014-02-16 04:00:00</td>\n",
       "      <td>594e7621-23d2-11e8-a6a3-ec086b02610b.jpg</td>\n",
       "      <td>1</td>\n",
       "      <td>594e7621-23d2-11e8-a6a3-ec086b02610b</td>\n",
       "      <td>70</td>\n",
       "      <td>Erin Boydston</td>\n",
       "      <td>6fd3878c-5567-11e8-b9c2-dca9047ef277</td>\n",
       "      <td>1</td>\n",
       "      <td>1024</td>\n",
       "      <td>747</td>\n",
       "      <td>empty</td>\n",
       "    </tr>\n",
       "    <tr>\n",
       "      <td>196296</td>\n",
       "      <td>4</td>\n",
       "      <td>2011-11-25 03:10:50</td>\n",
       "      <td>596d6468-23d2-11e8-a6a3-ec086b02610b.jpg</td>\n",
       "      <td>3</td>\n",
       "      <td>596d6468-23d2-11e8-a6a3-ec086b02610b</td>\n",
       "      <td>33</td>\n",
       "      <td>Justin Brown</td>\n",
       "      <td>6f0922e6-5567-11e8-b8c8-dca9047ef277</td>\n",
       "      <td>3</td>\n",
       "      <td>1024</td>\n",
       "      <td>747</td>\n",
       "      <td>rodent</td>\n",
       "    </tr>\n",
       "    <tr>\n",
       "      <td>196297</td>\n",
       "      <td>0</td>\n",
       "      <td>2014-03-27 05:00:00</td>\n",
       "      <td>58f5b062-23d2-11e8-a6a3-ec086b02610b.jpg</td>\n",
       "      <td>1</td>\n",
       "      <td>58f5b062-23d2-11e8-a6a3-ec086b02610b</td>\n",
       "      <td>106</td>\n",
       "      <td>Erin Boydston</td>\n",
       "      <td>6f710745-5567-11e8-bbfd-dca9047ef277</td>\n",
       "      <td>1</td>\n",
       "      <td>1024</td>\n",
       "      <td>747</td>\n",
       "      <td>empty</td>\n",
       "    </tr>\n",
       "    <tr>\n",
       "      <td>196298</td>\n",
       "      <td>0</td>\n",
       "      <td>2014-05-23 12:18:36</td>\n",
       "      <td>589e668f-23d2-11e8-a6a3-ec086b02610b.jpg</td>\n",
       "      <td>1</td>\n",
       "      <td>589e668f-23d2-11e8-a6a3-ec086b02610b</td>\n",
       "      <td>96</td>\n",
       "      <td>Erin Boydston</td>\n",
       "      <td>6fb40d1e-5567-11e8-8679-dca9047ef277</td>\n",
       "      <td>1</td>\n",
       "      <td>1024</td>\n",
       "      <td>747</td>\n",
       "      <td>empty</td>\n",
       "    </tr>\n",
       "  </tbody>\n",
       "</table>\n",
       "<p>196299 rows × 12 columns</p>\n",
       "</div>"
      ],
      "text/plain": [
       "        category_id        date_captured  \\\n",
       "0                19  2011-05-13 23:43:18   \n",
       "1                19  2012-03-17 03:48:44   \n",
       "2                 0  2014-05-11 11:56:46   \n",
       "3                 0  2013-10-06 02:00:00   \n",
       "4                 0  2011-07-12 13:11:16   \n",
       "...             ...                  ...   \n",
       "196294            0  2013-10-04 12:33:13   \n",
       "196295            0  2014-02-16 04:00:00   \n",
       "196296            4  2011-11-25 03:10:50   \n",
       "196297            0  2014-03-27 05:00:00   \n",
       "196298            0  2014-05-23 12:18:36   \n",
       "\n",
       "                                       file_name  frame_num  \\\n",
       "0       5998cfa4-23d2-11e8-a6a3-ec086b02610b.jpg          1   \n",
       "1       588a679f-23d2-11e8-a6a3-ec086b02610b.jpg          2   \n",
       "2       59279ce3-23d2-11e8-a6a3-ec086b02610b.jpg          1   \n",
       "3       5a2af4ab-23d2-11e8-a6a3-ec086b02610b.jpg          1   \n",
       "4       599fbd89-23d2-11e8-a6a3-ec086b02610b.jpg          3   \n",
       "...                                          ...        ...   \n",
       "196294  597b495c-23d2-11e8-a6a3-ec086b02610b.jpg          1   \n",
       "196295  594e7621-23d2-11e8-a6a3-ec086b02610b.jpg          1   \n",
       "196296  596d6468-23d2-11e8-a6a3-ec086b02610b.jpg          3   \n",
       "196297  58f5b062-23d2-11e8-a6a3-ec086b02610b.jpg          1   \n",
       "196298  589e668f-23d2-11e8-a6a3-ec086b02610b.jpg          1   \n",
       "\n",
       "                                          id  location  rights_holder  \\\n",
       "0       5998cfa4-23d2-11e8-a6a3-ec086b02610b        33   Justin Brown   \n",
       "1       588a679f-23d2-11e8-a6a3-ec086b02610b       115   Justin Brown   \n",
       "2       59279ce3-23d2-11e8-a6a3-ec086b02610b        96  Erin Boydston   \n",
       "3       5a2af4ab-23d2-11e8-a6a3-ec086b02610b        57  Erin Boydston   \n",
       "4       599fbd89-23d2-11e8-a6a3-ec086b02610b        46   Justin Brown   \n",
       "...                                      ...       ...            ...   \n",
       "196294  597b495c-23d2-11e8-a6a3-ec086b02610b        26  Erin Boydston   \n",
       "196295  594e7621-23d2-11e8-a6a3-ec086b02610b        70  Erin Boydston   \n",
       "196296  596d6468-23d2-11e8-a6a3-ec086b02610b        33   Justin Brown   \n",
       "196297  58f5b062-23d2-11e8-a6a3-ec086b02610b       106  Erin Boydston   \n",
       "196298  589e668f-23d2-11e8-a6a3-ec086b02610b        96  Erin Boydston   \n",
       "\n",
       "                                      seq_id  seq_num_frames  width  height  \\\n",
       "0       6f084ccc-5567-11e8-bc84-dca9047ef277               3   1024     747   \n",
       "1       6f12067d-5567-11e8-b3c0-dca9047ef277               3   1024     747   \n",
       "2       6faa92d1-5567-11e8-b1ae-dca9047ef277               1   1024     747   \n",
       "3       6f7d4702-5567-11e8-9e03-dca9047ef277               1   1024     747   \n",
       "4       6f1728a1-5567-11e8-9be7-dca9047ef277               3   1024     747   \n",
       "...                                      ...             ...    ...     ...   \n",
       "196294  6f20b923-5567-11e8-b4d7-dca9047ef277               1   1024     747   \n",
       "196295  6fd3878c-5567-11e8-b9c2-dca9047ef277               1   1024     747   \n",
       "196296  6f0922e6-5567-11e8-b8c8-dca9047ef277               3   1024     747   \n",
       "196297  6f710745-5567-11e8-bbfd-dca9047ef277               1   1024     747   \n",
       "196298  6fb40d1e-5567-11e8-8679-dca9047ef277               1   1024     747   \n",
       "\n",
       "          label  \n",
       "0       opossum  \n",
       "1       opossum  \n",
       "2         empty  \n",
       "3         empty  \n",
       "4         empty  \n",
       "...         ...  \n",
       "196294    empty  \n",
       "196295    empty  \n",
       "196296   rodent  \n",
       "196297    empty  \n",
       "196298    empty  \n",
       "\n",
       "[196299 rows x 12 columns]"
      ]
     },
     "execution_count": 29,
     "metadata": {},
     "output_type": "execute_result"
    }
   ],
   "source": [
    "df"
   ]
  },
  {
   "cell_type": "code",
   "execution_count": 31,
   "metadata": {},
   "outputs": [],
   "source": [
    "new = df.filter(['file_name', 'label'], axis=1)"
   ]
  },
  {
   "cell_type": "code",
   "execution_count": 34,
   "metadata": {},
   "outputs": [
    {
     "data": {
      "text/html": [
       "<div>\n",
       "<style scoped>\n",
       "    .dataframe tbody tr th:only-of-type {\n",
       "        vertical-align: middle;\n",
       "    }\n",
       "\n",
       "    .dataframe tbody tr th {\n",
       "        vertical-align: top;\n",
       "    }\n",
       "\n",
       "    .dataframe thead th {\n",
       "        text-align: right;\n",
       "    }\n",
       "</style>\n",
       "<table border=\"1\" class=\"dataframe\">\n",
       "  <thead>\n",
       "    <tr style=\"text-align: right;\">\n",
       "      <th></th>\n",
       "      <th>file_name</th>\n",
       "      <th>label</th>\n",
       "    </tr>\n",
       "  </thead>\n",
       "  <tbody>\n",
       "    <tr>\n",
       "      <td>0</td>\n",
       "      <td>5998cfa4-23d2-11e8-a6a3-ec086b02610b.jpg</td>\n",
       "      <td>opossum</td>\n",
       "    </tr>\n",
       "    <tr>\n",
       "      <td>1</td>\n",
       "      <td>588a679f-23d2-11e8-a6a3-ec086b02610b.jpg</td>\n",
       "      <td>opossum</td>\n",
       "    </tr>\n",
       "    <tr>\n",
       "      <td>2</td>\n",
       "      <td>59279ce3-23d2-11e8-a6a3-ec086b02610b.jpg</td>\n",
       "      <td>empty</td>\n",
       "    </tr>\n",
       "    <tr>\n",
       "      <td>3</td>\n",
       "      <td>5a2af4ab-23d2-11e8-a6a3-ec086b02610b.jpg</td>\n",
       "      <td>empty</td>\n",
       "    </tr>\n",
       "    <tr>\n",
       "      <td>4</td>\n",
       "      <td>599fbd89-23d2-11e8-a6a3-ec086b02610b.jpg</td>\n",
       "      <td>empty</td>\n",
       "    </tr>\n",
       "    <tr>\n",
       "      <td>...</td>\n",
       "      <td>...</td>\n",
       "      <td>...</td>\n",
       "    </tr>\n",
       "    <tr>\n",
       "      <td>196294</td>\n",
       "      <td>597b495c-23d2-11e8-a6a3-ec086b02610b.jpg</td>\n",
       "      <td>empty</td>\n",
       "    </tr>\n",
       "    <tr>\n",
       "      <td>196295</td>\n",
       "      <td>594e7621-23d2-11e8-a6a3-ec086b02610b.jpg</td>\n",
       "      <td>empty</td>\n",
       "    </tr>\n",
       "    <tr>\n",
       "      <td>196296</td>\n",
       "      <td>596d6468-23d2-11e8-a6a3-ec086b02610b.jpg</td>\n",
       "      <td>rodent</td>\n",
       "    </tr>\n",
       "    <tr>\n",
       "      <td>196297</td>\n",
       "      <td>58f5b062-23d2-11e8-a6a3-ec086b02610b.jpg</td>\n",
       "      <td>empty</td>\n",
       "    </tr>\n",
       "    <tr>\n",
       "      <td>196298</td>\n",
       "      <td>589e668f-23d2-11e8-a6a3-ec086b02610b.jpg</td>\n",
       "      <td>empty</td>\n",
       "    </tr>\n",
       "  </tbody>\n",
       "</table>\n",
       "<p>196299 rows × 2 columns</p>\n",
       "</div>"
      ],
      "text/plain": [
       "                                       file_name    label\n",
       "0       5998cfa4-23d2-11e8-a6a3-ec086b02610b.jpg  opossum\n",
       "1       588a679f-23d2-11e8-a6a3-ec086b02610b.jpg  opossum\n",
       "2       59279ce3-23d2-11e8-a6a3-ec086b02610b.jpg    empty\n",
       "3       5a2af4ab-23d2-11e8-a6a3-ec086b02610b.jpg    empty\n",
       "4       599fbd89-23d2-11e8-a6a3-ec086b02610b.jpg    empty\n",
       "...                                          ...      ...\n",
       "196294  597b495c-23d2-11e8-a6a3-ec086b02610b.jpg    empty\n",
       "196295  594e7621-23d2-11e8-a6a3-ec086b02610b.jpg    empty\n",
       "196296  596d6468-23d2-11e8-a6a3-ec086b02610b.jpg   rodent\n",
       "196297  58f5b062-23d2-11e8-a6a3-ec086b02610b.jpg    empty\n",
       "196298  589e668f-23d2-11e8-a6a3-ec086b02610b.jpg    empty\n",
       "\n",
       "[196299 rows x 2 columns]"
      ]
     },
     "execution_count": 34,
     "metadata": {},
     "output_type": "execute_result"
    }
   ],
   "source": [
    "new"
   ]
  },
  {
   "cell_type": "code",
   "execution_count": 35,
   "metadata": {},
   "outputs": [],
   "source": [
    "new.to_csv(NEW_PATH, index=False)"
   ]
  },
  {
   "cell_type": "code",
   "execution_count": 25,
   "metadata": {},
   "outputs": [
    {
     "data": {
      "text/plain": [
       "width  height\n",
       "1024   747       189960\n",
       "       748         1880\n",
       "       768         4459\n",
       "dtype: int64"
      ]
     },
     "execution_count": 25,
     "metadata": {},
     "output_type": "execute_result"
    }
   ],
   "source": [
    "df.groupby(['width', 'height']).size()"
   ]
  },
  {
   "cell_type": "code",
   "execution_count": 26,
   "metadata": {},
   "outputs": [
    {
     "data": {
      "text/plain": [
       "747.4865995241952"
      ]
     },
     "execution_count": 26,
     "metadata": {},
     "output_type": "execute_result"
    }
   ],
   "source": [
    "(747*189960 + 748*1880 + 768*4459)/len(df)"
   ]
  },
  {
   "cell_type": "code",
   "execution_count": 27,
   "metadata": {},
   "outputs": [
    {
     "data": {
      "text/plain": [
       "(512.0, 373.5)"
      ]
     },
     "execution_count": 27,
     "metadata": {},
     "output_type": "execute_result"
    }
   ],
   "source": [
    "1024/2, 747/2"
   ]
  },
  {
   "cell_type": "code",
   "execution_count": null,
   "metadata": {},
   "outputs": [],
   "source": []
  }
 ],
 "metadata": {
  "kernelspec": {
   "display_name": "base",
   "language": "python",
   "name": "base"
  },
  "language_info": {
   "codemirror_mode": {
    "name": "ipython",
    "version": 3
   },
   "file_extension": ".py",
   "mimetype": "text/x-python",
   "name": "python",
   "nbconvert_exporter": "python",
   "pygments_lexer": "ipython3",
   "version": "3.7.4"
  }
 },
 "nbformat": 4,
 "nbformat_minor": 2
}
