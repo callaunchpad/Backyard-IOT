{
 "cells": [
  {
   "cell_type": "code",
   "execution_count": 1,
   "metadata": {},
   "outputs": [],
   "source": [
    "import tensorflow as tf\n",
    "from tensorflow.keras.preprocessing.image import ImageDataGenerator\n",
    "from tensorflow.keras.optimizers import Adam\n",
    "from keras_fdmobilenet import FDMobileNet\n",
    "from collections import Counter\n",
    "import os\n",
    "import pickle\n",
    "import pandas as pd\n",
    "from sklearn.model_selection import train_test_split\n",
    "#from prettytable import PrettyTable"
   ]
  },
  {
   "cell_type": "code",
   "execution_count": 2,
   "metadata": {},
   "outputs": [],
   "source": [
    "BATCH_SIZE=128\n",
    "NUM_EPOCHS=50\n",
    "INIT_LR=1e-4\n",
    "STEP=10\n",
    "RATE=0.8"
   ]
  },
  {
   "cell_type": "code",
   "execution_count": 5,
   "metadata": {},
   "outputs": [],
   "source": [
    "IMAGES = '../Data/iwildcam/images'\n",
    "LABELS = '../Data/iwildcam/labels.csv'\n",
    "WIDTH, HEIGHT = (512, 374)"
   ]
  },
  {
   "cell_type": "code",
   "execution_count": 6,
   "metadata": {},
   "outputs": [],
   "source": [
    "df = pd.read_csv(LABELS)\n",
    "CLASSES=len(df.label.unique())\n",
    "\n",
    "train_df, test_df = train_test_split(df, test_size=0.1)\n",
    "train_df, val_df = train_test_split(train_df, test_size=0.1)\n",
    "\n",
    "del df"
   ]
  },
  {
   "cell_type": "code",
   "execution_count": 18,
   "metadata": {
    "scrolled": true
   },
   "outputs": [
    {
     "name": "stdout",
     "output_type": "stream",
     "text": [
      "train size: 159002\n",
      "test size: 19630\n",
      "val size: 17667\n"
     ]
    }
   ],
   "source": [
    "print('train size:', len(train_df))\n",
    "print('test size:', len(test_df))\n",
    "print('val size:', len(val_df))"
   ]
  },
  {
   "cell_type": "code",
   "execution_count": 24,
   "metadata": {
    "scrolled": true
   },
   "outputs": [
    {
     "data": {
      "text/plain": [
       "array([ 0,  1,  7,  6, 12,  5, 10,  3,  2,  4,  9, 11,  8, 13])"
      ]
     },
     "execution_count": 24,
     "metadata": {},
     "output_type": "execute_result"
    }
   ],
   "source": [
    "train_df.label.unique()"
   ]
  },
  {
   "cell_type": "code",
   "execution_count": 9,
   "metadata": {
    "scrolled": false
   },
   "outputs": [
    {
     "data": {
      "text/plain": [
       "label\n",
       "bobcat             4848\n",
       "cat                3827\n",
       "coyote             5795\n",
       "deer               5016\n",
       "dog                2481\n",
       "empty            106313\n",
       "fox                 873\n",
       "mountain_lion        27\n",
       "opossum           11456\n",
       "rabbit             5651\n",
       "raccoon            6962\n",
       "rodent             1819\n",
       "skunk              1122\n",
       "squirrel           2812\n",
       "dtype: int64"
      ]
     },
     "execution_count": 9,
     "metadata": {},
     "output_type": "execute_result"
    }
   ],
   "source": [
    "train_df.groupby('label').size()"
   ]
  },
  {
   "cell_type": "code",
   "execution_count": 10,
   "metadata": {
    "scrolled": true
   },
   "outputs": [
    {
     "name": "stdout",
     "output_type": "stream",
     "text": [
      "Found 0 validated image filenames belonging to 0 classes.\n",
      "Found 0 validated image filenames belonging to 0 classes.\n",
      "Found 0 validated image filenames belonging to 0 classes.\n"
     ]
    },
    {
     "name": "stderr",
     "output_type": "stream",
     "text": [
      "/opt/anaconda3/lib/python3.7/site-packages/keras_preprocessing/image/dataframe_iterator.py:273: UserWarning: Found 159002 invalid image filename(s) in x_col=\"file_name\". These filename(s) will be ignored.\n",
      "  .format(n_invalid, x_col)\n",
      "/opt/anaconda3/lib/python3.7/site-packages/keras_preprocessing/image/dataframe_iterator.py:273: UserWarning: Found 19630 invalid image filename(s) in x_col=\"file_name\". These filename(s) will be ignored.\n",
      "  .format(n_invalid, x_col)\n",
      "/opt/anaconda3/lib/python3.7/site-packages/keras_preprocessing/image/dataframe_iterator.py:273: UserWarning: Found 17667 invalid image filename(s) in x_col=\"file_name\". These filename(s) will be ignored.\n",
      "  .format(n_invalid, x_col)\n"
     ]
    }
   ],
   "source": [
    "train_datagen = ImageDataGenerator(\n",
    "    rescale=1/.255,\n",
    "    rotation_range=10,\n",
    "    width_shift_range=0.1,\n",
    "    height_shift_range=0.1,\n",
    "    zoom_range=0.1)\n",
    "test_datagen = ImageDataGenerator(\n",
    "    rescale=1/.255)\n",
    "\n",
    "train_generator = train_datagen.flow_from_dataframe(\n",
    "    dataframe=train_df,\n",
    "    directory=IMAGES,\n",
    "    target_size=(HEIGHT, WIDTH),\n",
    "    x_col='file_name',\n",
    "    y_col='label',\n",
    "    color_mode='rgb',\n",
    "    class_mode='categorical',\n",
    "    batch_size=BATCH_SIZE,\n",
    ")\n",
    "\n",
    "test_generator = test_datagen.flow_from_dataframe(\n",
    "    dataframe=test_df,\n",
    "    directory=IMAGES,\n",
    "    target_size=(HEIGHT, WIDTH),\n",
    "    x_col='file_name',\n",
    "    y_col='label',\n",
    "    color_mode='rgb',\n",
    "    class_mode='categorical',\n",
    "    batch_size=BATCH_SIZE,\n",
    ")\n",
    "\n",
    "val_generator = test_datagen.flow_from_dataframe(\n",
    "    dataframe=val_df,\n",
    "    directory=IMAGES,\n",
    "    target_size=(HEIGHT, WIDTH),\n",
    "    x_col='file_name',\n",
    "    y_col='label',\n",
    "    color_mode='rgb',\n",
    "    class_mode='categorical',\n",
    "    batch_size=BATCH_SIZE,\n",
    ")"
   ]
  },
  {
   "cell_type": "code",
   "execution_count": 11,
   "metadata": {},
   "outputs": [
    {
     "ename": "ValueError",
     "evalue": "max() arg is an empty sequence",
     "output_type": "error",
     "traceback": [
      "\u001b[0;31m---------------------------------------------------------------------------\u001b[0m",
      "\u001b[0;31mValueError\u001b[0m                                Traceback (most recent call last)",
      "\u001b[0;32m<ipython-input-11-5d2f87a68e3e>\u001b[0m in \u001b[0;36m<module>\u001b[0;34m\u001b[0m\n\u001b[1;32m      1\u001b[0m \u001b[0;31m#Calculate class weights\u001b[0m\u001b[0;34m\u001b[0m\u001b[0;34m\u001b[0m\u001b[0;34m\u001b[0m\u001b[0m\n\u001b[1;32m      2\u001b[0m \u001b[0mcounter\u001b[0m \u001b[0;34m=\u001b[0m \u001b[0mCounter\u001b[0m\u001b[0;34m(\u001b[0m\u001b[0mtrain_generator\u001b[0m\u001b[0;34m.\u001b[0m\u001b[0mclasses\u001b[0m\u001b[0;34m)\u001b[0m\u001b[0;34m\u001b[0m\u001b[0;34m\u001b[0m\u001b[0m\n\u001b[0;32m----> 3\u001b[0;31m \u001b[0mmax_val\u001b[0m \u001b[0;34m=\u001b[0m \u001b[0mfloat\u001b[0m\u001b[0;34m(\u001b[0m\u001b[0mmax\u001b[0m\u001b[0;34m(\u001b[0m\u001b[0mcounter\u001b[0m\u001b[0;34m.\u001b[0m\u001b[0mvalues\u001b[0m\u001b[0;34m(\u001b[0m\u001b[0;34m)\u001b[0m\u001b[0;34m)\u001b[0m\u001b[0;34m)\u001b[0m\u001b[0;34m\u001b[0m\u001b[0;34m\u001b[0m\u001b[0m\n\u001b[0m\u001b[1;32m      4\u001b[0m \u001b[0mclass_weights\u001b[0m \u001b[0;34m=\u001b[0m \u001b[0;34m{\u001b[0m\u001b[0mclass_id\u001b[0m \u001b[0;34m:\u001b[0m \u001b[0mmax_val\u001b[0m\u001b[0;34m/\u001b[0m\u001b[0mnum_images\u001b[0m \u001b[0;32mfor\u001b[0m \u001b[0mclass_id\u001b[0m\u001b[0;34m,\u001b[0m \u001b[0mnum_images\u001b[0m \u001b[0;32min\u001b[0m \u001b[0mcounter\u001b[0m\u001b[0;34m.\u001b[0m\u001b[0mitems\u001b[0m\u001b[0;34m(\u001b[0m\u001b[0;34m)\u001b[0m\u001b[0;34m}\u001b[0m\u001b[0;34m\u001b[0m\u001b[0;34m\u001b[0m\u001b[0m\n",
      "\u001b[0;31mValueError\u001b[0m: max() arg is an empty sequence"
     ]
    }
   ],
   "source": [
    "#Calculate class weights\n",
    "counter = Counter(train_generator.classes)                        \n",
    "max_val = float(max(counter.values()))       \n",
    "class_weights = {class_id : max_val/num_images for class_id, num_images in counter.items()}"
   ]
  },
  {
   "cell_type": "code",
   "execution_count": null,
   "metadata": {},
   "outputs": [],
   "source": [
    "#Multiplies learning rate by RATE every STEP epochs, starting at INIT_LR\n",
    "scheduler = lambda epoch: INIT_LR * (RATE ** (epoch // STEP))\n",
    "callback = tf.keras.callbacks.LearningRateScheduler(scheduler)"
   ]
  },
  {
   "cell_type": "code",
   "execution_count": null,
   "metadata": {},
   "outputs": [],
   "source": [
    "strategy = tf.distribute.MirroredStrategy()\n",
    "\n",
    "def train_and_save(alpha):\n",
    "    with strategy.scope():\n",
    "        model = FDMobileNet(alpha=alpha)\n",
    "        model.compile(optimizer=Adam(learning_rate=0.0),\n",
    "                      loss='categorical_crossentropy',\n",
    "                      metrics=['accuracy'])\n",
    "\n",
    "    history = model.fit(\n",
    "        train_generator,\n",
    "        steps_per_epoch = train_generator.samples // BATCH_SIZE,\n",
    "        validation_data=val_generator,\n",
    "        validation_steps=val_generator.samples // BATCH_SIZE,\n",
    "        epochs=NUM_EPOCHS,\n",
    "        class_weight=class_weights, callbacks=[callback]\n",
    "    )\n",
    "    \n",
    "    evaluation = model.evaluate(\n",
    "        test_generator,\n",
    "        steps = test_generator.samples // BATCH_SIZE\n",
    "    )\n",
    "\n",
    "    RESULTS='results'\n",
    "    if not os.path.exists(RESULTS):\n",
    "        os.mkdir(RESULTS)\n",
    "\n",
    "    model.save(os.path.join(RESULTS, 'fdmobilenet_{}x.h5'.format(alpha)))\n",
    "    with open(os.path.join(RESULTS, 'history_{}x.pkl'.format(alpha)), 'wb') as f:\n",
    "        pickle.dump(history.history, f)\n",
    "        \n",
    "    headers=['epoch', 'accuracy', 'val_accuracy', 'loss', 'val_loss', 'lr']\n",
    "    table = PrettyTable(headers)\n",
    "    for i in range(NUM_EPOCHS):\n",
    "        table.add_row([i+1] + [history.history[header][i] for header in headers[1:]])\n",
    "    with open(os.path.join(RESULTS, 'table_{}x.txt'.format(alpha)), 'w') as f:\n",
    "        f.write(str(table))\n",
    "        f.write('\\n\\nTest Results:')\n",
    "        f.write('loss:', evaluation[0])\n",
    "        f.write('accuracy:', evaluation[1])\n",
    "\n",
    "train_and_save(1)"
   ]
  }
 ],
 "metadata": {
  "kernelspec": {
   "display_name": "base",
   "language": "python",
   "name": "base"
  },
  "language_info": {
   "codemirror_mode": {
    "name": "ipython",
    "version": 3
   },
   "file_extension": ".py",
   "mimetype": "text/x-python",
   "name": "python",
   "nbconvert_exporter": "python",
   "pygments_lexer": "ipython3",
   "version": "3.7.4"
  }
 },
 "nbformat": 4,
 "nbformat_minor": 2
}
