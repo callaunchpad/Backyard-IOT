{
 "cells": [
  {
   "cell_type": "code",
   "execution_count": 5,
   "metadata": {
    "scrolled": true
   },
   "outputs": [],
   "source": [
    "import tensorflow as tf\n",
    "\n",
    "from tensorflow.keras import datasets, layers, models\n",
    "import matplotlib.pyplot as plt\n",
    "\n",
    "import json\n",
    "import os\n",
    "import cv2\n",
    "import numpy as np\n",
    "import random\n",
    "import os"
   ]
  },
  {
   "cell_type": "code",
   "execution_count": 3,
   "metadata": {
    "scrolled": true
   },
   "outputs": [
    {
     "name": "stdout",
     "output_type": "stream",
     "text": [
      "5.0 % done\n",
      "10.0 % done\n",
      "15.0 % done\n",
      "20.0 % done\n",
      "25.0 % done\n",
      "30.0 % done\n",
      "35.0 % done\n",
      "40.0 % done\n",
      "45.0 % done\n",
      "50.0 % done\n",
      "55.00000000000001 % done\n",
      "60.0 % done\n",
      "65.0 % done\n",
      "70.0 % done\n",
      "75.0 % done\n",
      "80.0 % done\n",
      "85.0 % done\n",
      "90.0 % done\n",
      "95.0 % done\n",
      "100.0 % done\n"
     ]
    }
   ],
   "source": [
    "\"\"\"Prepare Data\"\"\"\n",
    "\n",
    "images_path = \"eccv_18_all_images_sm\"\n",
    "labels_path = \"CaltechCameraTrapsECCV18.json\"\n",
    "\n",
    "with open(labels_path) as json_file:\n",
    "    data = json.load(json_file)\n",
    "\n",
    "clist, cdict = [], {}\n",
    "for category in data['categories']:\n",
    "    cdict[category['id']] = len(clist)\n",
    "    clist.append(category['name'])\n",
    "\n",
    "num_categories = len(clist)\n",
    "\n",
    "adict = {}\n",
    "for annotation in data['annotations']:\n",
    "    adict[annotation['image_id']] = cdict[annotation['category_id']]\n",
    "\n",
    "amount = 1000\n",
    "dim = (1000, 500)\n",
    "path_lst = next(os.walk(images_path))[2]\n",
    "image_lst, label_lst = [], []\n",
    "i = 1\n",
    "for idx in random.sample(range(len(path_lst)), amount):\n",
    "    image = path_lst[idx]\n",
    "    \n",
    "    imarr = cv2.imread(images_path + '/' + image, cv2.IMREAD_COLOR)\n",
    "    imarr = cv2.resize(imarr, dim, interpolation = cv2.INTER_AREA)\n",
    "    \n",
    "    image_lst.append(imarr)\n",
    "    \n",
    "    label_vec = np.zeros(num_categories)\n",
    "    label_vec[adict[image.split('.')[0]]] = 1\n",
    "    label_lst.append(label_vec)\n",
    "    \n",
    "    if i % 50 == 0:\n",
    "        print(i / amount * 100, '% done')\n",
    "    i+=1\n",
    "    \n",
    "image_arr, label_arr = np.array(image_lst), np.array(label_lst)"
   ]
  },
  {
   "cell_type": "code",
   "execution_count": 6,
   "metadata": {},
   "outputs": [],
   "source": [
    "path = 'data2/'\n",
    "\n",
    "os.mkdir(path)\n",
    "\n",
    "np.save(path + 'images.npy', image_arr)\n",
    "np.save(path + 'labels.npy', label_arr)\n",
    "np.savez(path + 'label_to_animal.npz', clist)"
   ]
  },
  {
   "cell_type": "code",
   "execution_count": 7,
   "metadata": {},
   "outputs": [
    {
     "data": {
      "text/plain": [
       "(1000, 500, 1000, 3)"
      ]
     },
     "execution_count": 7,
     "metadata": {},
     "output_type": "execute_result"
    }
   ],
   "source": [
    "image_arr.shape"
   ]
  },
  {
   "cell_type": "code",
   "execution_count": null,
   "metadata": {},
   "outputs": [],
   "source": []
  }
 ],
 "metadata": {
  "kernelspec": {
   "display_name": "base",
   "language": "python",
   "name": "base"
  },
  "language_info": {
   "codemirror_mode": {
    "name": "ipython",
    "version": 3
   },
   "file_extension": ".py",
   "mimetype": "text/x-python",
   "name": "python",
   "nbconvert_exporter": "python",
   "pygments_lexer": "ipython3",
   "version": "3.7.4"
  }
 },
 "nbformat": 4,
 "nbformat_minor": 2
}
