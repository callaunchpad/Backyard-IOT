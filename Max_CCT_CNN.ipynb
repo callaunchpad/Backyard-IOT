{
 "cells": [
  {
   "cell_type": "code",
   "execution_count": 2,
   "metadata": {
    "collapsed": true,
    "scrolled": true
   },
   "outputs": [],
   "source": [
    "import matplotlib.pyplot as plt\n",
    "import json\n",
    "import os\n",
    "import cv2\n",
    "import numpy as np\n",
    "import random\n",
    "from random import shuffle\n",
    "import os\n",
    "from skimage import transform"
   ]
  },
  {
   "cell_type": "code",
   "execution_count": 3,
   "metadata": {
    "scrolled": true
   },
   "outputs": [
    {
     "name": "stdout",
     "output_type": "stream",
     "text": [
      "57864\n"
     ]
    },
    {
     "data": {
      "text/plain": [
       "[{'id': 6, 'name': 'bobcat'},\n",
       " {'id': 1, 'name': 'opossum'},\n",
       " {'id': 30, 'name': 'empty'},\n",
       " {'id': 9, 'name': 'coyote'},\n",
       " {'id': 3, 'name': 'raccoon'},\n",
       " {'id': 11, 'name': 'bird'},\n",
       " {'id': 8, 'name': 'dog'},\n",
       " {'id': 16, 'name': 'cat'},\n",
       " {'id': 5, 'name': 'squirrel'},\n",
       " {'id': 10, 'name': 'rabbit'},\n",
       " {'id': 7, 'name': 'skunk'},\n",
       " {'id': 99, 'name': 'rodent'},\n",
       " {'id': 21, 'name': 'badger'},\n",
       " {'id': 34, 'name': 'deer'},\n",
       " {'id': 33, 'name': 'car'},\n",
       " {'id': 51, 'name': 'fox'}]"
      ]
     },
     "execution_count": 3,
     "metadata": {},
     "output_type": "execute_result"
    }
   ],
   "source": [
    "\"\"\"Prepare Data\"\"\"\n",
    "images_path = \"eccv_18_all_images_sm\"\n",
    "labels_path = \"CaltechCameraTrapsECCV18.json\"\n",
    "\n",
    "with open(labels_path) as json_file:\n",
    "    data = json.load(json_file)\n",
    "    \n",
    "path_lst = next(os.walk(images_path))[2]\n",
    "\n",
    "print(len(path_lst))\n",
    "\n",
    "data['categories']"
   ]
  },
  {
   "cell_type": "code",
   "execution_count": 4,
   "metadata": {},
   "outputs": [
    {
     "name": "stdout",
     "output_type": "stream",
     "text": [
      "['bobcat', 'opossum', 'empty', 'coyote', 'raccoon', 'bird', 'dog', 'cat', 'squirrel', 'rabbit', 'skunk', 'rodent', 'badger', 'deer', 'car', 'fox']\n"
     ]
    },
    {
     "data": {
      "text/plain": [
       "{1: 1,\n",
       " 3: 4,\n",
       " 5: 8,\n",
       " 6: 0,\n",
       " 7: 10,\n",
       " 8: 6,\n",
       " 9: 3,\n",
       " 10: 9,\n",
       " 11: 5,\n",
       " 16: 7,\n",
       " 21: 12,\n",
       " 30: 2,\n",
       " 33: 14,\n",
       " 34: 13,\n",
       " 51: 15,\n",
       " 99: 11}"
      ]
     },
     "execution_count": 4,
     "metadata": {},
     "output_type": "execute_result"
    }
   ],
   "source": [
    "clist, cdict = [], {}\n",
    "for category in data['categories']:\n",
    "    cdict[category['id']] = len(clist)\n",
    "    clist.append(category['name'])\n",
    "\n",
    "num_categories = len(clist)\n",
    "\n",
    "adict = {}\n",
    "for annotation in data['annotations']:\n",
    "    adict[annotation['image_id']] = cdict[annotation['category_id']]\n",
    "\n",
    "print(clist)\n",
    "cdict"
   ]
  },
  {
   "cell_type": "code",
   "execution_count": 5,
   "metadata": {
    "collapsed": true
   },
   "outputs": [],
   "source": [
    "dim = (512, 384)\n",
    "def select(idx):\n",
    "    path = path_lst[idx]\n",
    "    \n",
    "    imarr = cv2.imread(images_path + '/' + path, cv2.IMREAD_COLOR)\n",
    "    imarr = cv2.resize(imarr, dim, interpolation = cv2.INTER_AREA)\n",
    "    #imarr = transform.resize(imarr, dim, mode='reflect')\n",
    "    \n",
    "    label = adict[path.split('.')[0]]\n",
    "    \n",
    "    return imarr / 255, label"
   ]
  },
  {
   "cell_type": "code",
   "execution_count": 6,
   "metadata": {
    "scrolled": true
   },
   "outputs": [
    {
     "name": "stdout",
     "output_type": "stream",
     "text": [
      "5986246b-23d2-11e8-a6a3-ec086b02610b.jpg\n",
      "1.0\n",
      "car\n",
      "(384, 512, 3)\n",
      "float64\n"
     ]
    },
    {
     "data": {
      "text/plain": [
       "<matplotlib.image.AxesImage at 0x7f6bd3833048>"
      ]
     },
     "execution_count": 6,
     "metadata": {},
     "output_type": "execute_result"
    }
   ],
   "source": [
    "idx = random.randint(0, len(path_lst))\n",
    "imarr, label = select(idx)\n",
    "print(path_lst[idx])\n",
    "print(np.max(imarr))\n",
    "print(clist[label])\n",
    "print(imarr.shape)\n",
    "print(imarr.dtype)\n",
    "plt.imshow(imarr)"
   ]
  },
  {
   "cell_type": "code",
   "execution_count": 96,
   "metadata": {},
   "outputs": [
    {
     "name": "stdout",
     "output_type": "stream",
     "text": [
      "0.0 % done\n",
      "0.8640951195907645 % done\n",
      "1.728190239181529 % done\n",
      "2.5922853587722936 % done\n",
      "3.456380478363058 % done\n",
      "4.3204755979538225 % done\n",
      "5.184570717544587 % done\n",
      "6.048665837135352 % done\n",
      "6.912760956726116 % done\n",
      "7.77685607631688 % done\n",
      "8.640951195907645 % done\n",
      "9.50504631549841 % done\n",
      "10.369141435089174 % done\n",
      "11.233236554679939 % done\n",
      "12.097331674270704 % done\n",
      "12.961426793861468 % done\n",
      "13.825521913452231 % done\n",
      "14.689617033042998 % done\n",
      "15.55371215263376 % done\n",
      "16.41780727222453 % done\n",
      "17.28190239181529 % done\n",
      "18.145997511406055 % done\n",
      "19.01009263099682 % done\n",
      "19.874187750587584 % done\n",
      "20.73828287017835 % done\n",
      "21.602377989769113 % done\n",
      "22.466473109359878 % done\n",
      "23.330568228950643 % done\n",
      "24.194663348541408 % done\n",
      "25.05875846813217 % done\n",
      "25.922853587722937 % done\n",
      "26.7869487073137 % done\n",
      "27.651043826904463 % done\n",
      "28.515138946495227 % done\n",
      "29.379234066085996 % done\n",
      "30.24332918567676 % done\n",
      "31.10742430526752 % done\n",
      "31.971519424858286 % done\n",
      "32.83561454444906 % done\n",
      "33.699709664039815 % done\n",
      "34.56380478363058 % done\n",
      "35.42789990322135 % done\n",
      "36.29199502281211 % done\n",
      "37.156090142402874 % done\n",
      "38.02018526199364 % done\n",
      "38.88428038158441 % done\n",
      "39.74837550117517 % done\n",
      "40.61247062076593 % done\n",
      "41.4765657403567 % done\n",
      "42.34066085994746 % done\n",
      "43.20475597953823 % done\n",
      "44.06885109912899 % done\n",
      "44.932946218719756 % done\n",
      "45.79704133831052 % done\n",
      "46.661136457901286 % done\n",
      "47.52523157749205 % done\n",
      "48.389326697082815 % done\n",
      "49.25342181667358 % done\n",
      "50.11751693626434 % done\n",
      "50.98161205585511 % done\n",
      "51.845707175445874 % done\n",
      "52.70980229503663 % done\n",
      "53.5738974146274 % done\n",
      "54.43799253421817 % done\n",
      "55.302087653808925 % done\n",
      "56.1661827733997 % done\n",
      "57.030277892990455 % done\n",
      "57.89437301258123 % done\n",
      "58.75846813217199 % done\n",
      "59.62256325176275 % done\n",
      "60.48665837135352 % done\n",
      "61.350753490944285 % done\n",
      "62.21484861053504 % done\n",
      "63.078943730125815 % done\n",
      "63.94303884971657 % done\n",
      "64.80713396930734 % done\n",
      "65.67122908889812 % done\n",
      "66.53532420848887 % done\n",
      "67.39941932807963 % done\n",
      "68.2635144476704 % done\n",
      "69.12760956726116 % done\n",
      "69.99170468685193 % done\n",
      "70.8557998064427 % done\n",
      "71.71989492603346 % done\n",
      "72.58399004562422 % done\n",
      "73.44808516521498 % done\n",
      "74.31218028480575 % done\n",
      "75.17627540439652 % done\n",
      "76.04037052398728 % done\n",
      "76.90446564357805 % done\n",
      "77.76856076316882 % done\n",
      "78.63265588275958 % done\n",
      "79.49675100235034 % done\n",
      "80.3608461219411 % done\n",
      "81.22494124153187 % done\n",
      "82.08903636112264 % done\n",
      "82.9531314807134 % done\n",
      "83.81722660030417 % done\n",
      "84.68132171989492 % done\n",
      "85.54541683948568 % done\n",
      "86.40951195907645 % done\n",
      "87.27360707866721 % done\n",
      "88.13770219825798 % done\n",
      "89.00179731784876 % done\n",
      "89.86589243743951 % done\n",
      "90.72998755703028 % done\n",
      "91.59408267662104 % done\n",
      "92.4581777962118 % done\n",
      "93.32227291580257 % done\n",
      "94.18636803539333 % done\n",
      "95.0504631549841 % done\n",
      "95.91455827457487 % done\n",
      "96.77865339416563 % done\n",
      "97.64274851375639 % done\n",
      "98.50684363334716 % done\n",
      "99.37093875293792 % done\n",
      "{3: 5318, 1: 13689, 4: 7841, 8: 3181, 0: 4906, 2: 4014, 14: 2613, 9: 5606, 7: 4601, 5: 1403, 6: 2788, 10: 857, 13: 207, 11: 810, 12: 22, 15: 8}\n"
     ]
    },
    {
     "data": {
      "text/plain": [
       "{(747, 1024, 3): 52912, (768, 1024, 3): 4952}"
      ]
     },
     "execution_count": 96,
     "metadata": {},
     "output_type": "execute_result"
    }
   ],
   "source": [
    "size_dict, label_dict = {}, {}\n",
    "i = 0\n",
    "for idx in range(len(path_lst)):\n",
    "    imarr, label = select(idx)\n",
    "    \n",
    "    if imarr.shape in size_dict:\n",
    "        size_dict[imarr.shape] += 1\n",
    "    else:\n",
    "        size_dict[imarr.shape] = 1\n",
    "        \n",
    "    if label in label_dict:\n",
    "        label_dict[label] += 1\n",
    "    else:\n",
    "        label_dict[label] = 1\n",
    "    \n",
    "    if i % 500 == 0:\n",
    "        print(i / len(path_lst) * 100, '% done')\n",
    "    i+=1\n",
    "\n",
    "print(label_dict)\n",
    "size_dict"
   ]
  },
  {
   "cell_type": "code",
   "execution_count": 12,
   "metadata": {},
   "outputs": [
    {
     "name": "stdout",
     "output_type": "stream",
     "text": [
      "finished 1 of 10000\n",
      "finished 501 of 10000\n",
      "finished 1001 of 10000\n",
      "finished 1501 of 10000\n",
      "finished 2001 of 10000\n",
      "finished 2501 of 10000\n",
      "finished 3001 of 10000\n",
      "finished 3501 of 10000\n",
      "finished 4001 of 10000\n",
      "finished 4501 of 10000\n",
      "finished 5001 of 10000\n",
      "finished 5501 of 10000\n",
      "finished 6001 of 10000\n",
      "finished 6501 of 10000\n",
      "finished 7001 of 10000\n",
      "finished 7501 of 10000\n",
      "finished 8001 of 10000\n",
      "finished 8501 of 10000\n",
      "finished 9001 of 10000\n",
      "finished 9501 of 10000\n"
     ]
    }
   ],
   "source": [
    "image_lst, label_lst = [], []\n",
    "shuffle(path_lst)\n",
    "\n",
    "num_examples = 10000\n",
    "channels = 3\n",
    "\n",
    "images = np.zeros(dtype='float16', shape=(num_examples, dim[1], dim[0], channels))\n",
    "labels = np.zeros(dtype='byte', shape=(num_examples, num_categories))\n",
    "\n",
    "for example in range(num_examples):\n",
    "    imarr, label = select(example)\n",
    "    images[example] = imarr\n",
    "    labels[example][label] = 1\n",
    "    \n",
    "    if (example % 500 == 0):\n",
    "        print('finished {0} of {1}'.format(example + 1, num_examples))"
   ]
  },
  {
   "cell_type": "code",
   "execution_count": 13,
   "metadata": {},
   "outputs": [
    {
     "data": {
      "text/plain": [
       "1.0"
      ]
     },
     "execution_count": 13,
     "metadata": {},
     "output_type": "execute_result"
    }
   ],
   "source": [
    "np.max(images)"
   ]
  },
  {
   "cell_type": "code",
   "execution_count": 16,
   "metadata": {},
   "outputs": [],
   "source": [
    "np.save('images.npy', images)\n",
    "np.save('labels.npy', labels)\n",
    "np.savez('label_to_animal.npz', clist)\n",
    "np.save('small_images.npy', images[:1000])\n",
    "np.save('small_labels.npy', labels[:1000])"
   ]
  },
  {
   "cell_type": "code",
   "execution_count": 17,
   "metadata": {},
   "outputs": [
    {
     "data": {
      "text/plain": [
       "(10000, 384, 512, 3)"
      ]
     },
     "execution_count": 17,
     "metadata": {},
     "output_type": "execute_result"
    }
   ],
   "source": [
    "images.shape"
   ]
  },
  {
   "cell_type": "code",
   "execution_count": null,
   "metadata": {
    "collapsed": true
   },
   "outputs": [],
   "source": []
  }
 ],
 "metadata": {
  "kernelspec": {
   "display_name": "Python 3",
   "language": "python",
   "name": "python3"
  },
  "language_info": {
   "codemirror_mode": {
    "name": "ipython",
    "version": 3
   },
   "file_extension": ".py",
   "mimetype": "text/x-python",
   "name": "python",
   "nbconvert_exporter": "python",
   "pygments_lexer": "ipython3",
   "version": "3.7.4"
  }
 },
 "nbformat": 4,
 "nbformat_minor": 2
}
